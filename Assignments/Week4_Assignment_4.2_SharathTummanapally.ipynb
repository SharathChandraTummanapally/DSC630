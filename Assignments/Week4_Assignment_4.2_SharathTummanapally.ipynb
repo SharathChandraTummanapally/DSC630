{
 "cells": [
  {
   "cell_type": "code",
   "execution_count": 84,
   "id": "eda4af44",
   "metadata": {},
   "outputs": [],
   "source": [
    "import pandas as pd\n",
    "from sklearn.preprocessing import StandardScaler\n",
    "from sklearn.metrics import silhouette_score\n",
    "from sklearn.cluster import KMeans\n",
    "from matplotlib import pyplot as plt\n",
    "from sklearn.decomposition import PCA\n",
    "import warnings\n",
    "warnings.filterwarnings('ignore')"
   ]
  },
  {
   "cell_type": "code",
   "execution_count": 6,
   "id": "0ac33f00",
   "metadata": {},
   "outputs": [
    {
     "data": {
      "text/html": [
       "<div>\n",
       "<style scoped>\n",
       "    .dataframe tbody tr th:only-of-type {\n",
       "        vertical-align: middle;\n",
       "    }\n",
       "\n",
       "    .dataframe tbody tr th {\n",
       "        vertical-align: top;\n",
       "    }\n",
       "\n",
       "    .dataframe thead th {\n",
       "        text-align: right;\n",
       "    }\n",
       "</style>\n",
       "<table border=\"1\" class=\"dataframe\">\n",
       "  <thead>\n",
       "    <tr style=\"text-align: right;\">\n",
       "      <th></th>\n",
       "      <th>ID</th>\n",
       "      <th>Age_mean</th>\n",
       "      <th>Albumin_max</th>\n",
       "      <th>Albumin_median</th>\n",
       "      <th>Albumin_min</th>\n",
       "      <th>Albumin_range</th>\n",
       "      <th>ALSFRS_slope</th>\n",
       "      <th>ALSFRS_Total_max</th>\n",
       "      <th>ALSFRS_Total_median</th>\n",
       "      <th>ALSFRS_Total_min</th>\n",
       "      <th>...</th>\n",
       "      <th>Sodium_min</th>\n",
       "      <th>Sodium_range</th>\n",
       "      <th>SubjectID</th>\n",
       "      <th>trunk_max</th>\n",
       "      <th>trunk_median</th>\n",
       "      <th>trunk_min</th>\n",
       "      <th>trunk_range</th>\n",
       "      <th>Urine.Ph_max</th>\n",
       "      <th>Urine.Ph_median</th>\n",
       "      <th>Urine.Ph_min</th>\n",
       "    </tr>\n",
       "  </thead>\n",
       "  <tbody>\n",
       "    <tr>\n",
       "      <th>0</th>\n",
       "      <td>1</td>\n",
       "      <td>65</td>\n",
       "      <td>57.0</td>\n",
       "      <td>40.5</td>\n",
       "      <td>38.0</td>\n",
       "      <td>0.066202</td>\n",
       "      <td>-0.965608</td>\n",
       "      <td>30</td>\n",
       "      <td>28.0</td>\n",
       "      <td>22</td>\n",
       "      <td>...</td>\n",
       "      <td>143.0</td>\n",
       "      <td>0.017422</td>\n",
       "      <td>533</td>\n",
       "      <td>8</td>\n",
       "      <td>7.0</td>\n",
       "      <td>7</td>\n",
       "      <td>0.002646</td>\n",
       "      <td>6.0</td>\n",
       "      <td>6.0</td>\n",
       "      <td>6.0</td>\n",
       "    </tr>\n",
       "    <tr>\n",
       "      <th>1</th>\n",
       "      <td>2</td>\n",
       "      <td>48</td>\n",
       "      <td>45.0</td>\n",
       "      <td>41.0</td>\n",
       "      <td>39.0</td>\n",
       "      <td>0.010453</td>\n",
       "      <td>-0.921717</td>\n",
       "      <td>37</td>\n",
       "      <td>33.0</td>\n",
       "      <td>21</td>\n",
       "      <td>...</td>\n",
       "      <td>136.0</td>\n",
       "      <td>0.010453</td>\n",
       "      <td>649</td>\n",
       "      <td>8</td>\n",
       "      <td>7.0</td>\n",
       "      <td>5</td>\n",
       "      <td>0.005386</td>\n",
       "      <td>7.0</td>\n",
       "      <td>5.0</td>\n",
       "      <td>5.0</td>\n",
       "    </tr>\n",
       "    <tr>\n",
       "      <th>2</th>\n",
       "      <td>3</td>\n",
       "      <td>38</td>\n",
       "      <td>50.0</td>\n",
       "      <td>47.0</td>\n",
       "      <td>45.0</td>\n",
       "      <td>0.008929</td>\n",
       "      <td>-0.914787</td>\n",
       "      <td>24</td>\n",
       "      <td>14.0</td>\n",
       "      <td>10</td>\n",
       "      <td>...</td>\n",
       "      <td>140.0</td>\n",
       "      <td>0.008929</td>\n",
       "      <td>1234</td>\n",
       "      <td>5</td>\n",
       "      <td>0.0</td>\n",
       "      <td>0</td>\n",
       "      <td>0.008929</td>\n",
       "      <td>6.0</td>\n",
       "      <td>5.0</td>\n",
       "      <td>5.0</td>\n",
       "    </tr>\n",
       "    <tr>\n",
       "      <th>3</th>\n",
       "      <td>4</td>\n",
       "      <td>63</td>\n",
       "      <td>47.0</td>\n",
       "      <td>44.0</td>\n",
       "      <td>41.0</td>\n",
       "      <td>0.012111</td>\n",
       "      <td>-0.598361</td>\n",
       "      <td>30</td>\n",
       "      <td>29.0</td>\n",
       "      <td>24</td>\n",
       "      <td>...</td>\n",
       "      <td>138.0</td>\n",
       "      <td>0.012469</td>\n",
       "      <td>2492</td>\n",
       "      <td>5</td>\n",
       "      <td>5.0</td>\n",
       "      <td>3</td>\n",
       "      <td>0.004988</td>\n",
       "      <td>7.0</td>\n",
       "      <td>6.0</td>\n",
       "      <td>5.0</td>\n",
       "    </tr>\n",
       "    <tr>\n",
       "      <th>4</th>\n",
       "      <td>5</td>\n",
       "      <td>63</td>\n",
       "      <td>47.0</td>\n",
       "      <td>45.5</td>\n",
       "      <td>42.0</td>\n",
       "      <td>0.008292</td>\n",
       "      <td>-0.444039</td>\n",
       "      <td>32</td>\n",
       "      <td>27.5</td>\n",
       "      <td>20</td>\n",
       "      <td>...</td>\n",
       "      <td>138.0</td>\n",
       "      <td>0.008292</td>\n",
       "      <td>2956</td>\n",
       "      <td>6</td>\n",
       "      <td>4.0</td>\n",
       "      <td>1</td>\n",
       "      <td>0.008489</td>\n",
       "      <td>6.0</td>\n",
       "      <td>5.0</td>\n",
       "      <td>5.0</td>\n",
       "    </tr>\n",
       "  </tbody>\n",
       "</table>\n",
       "<p>5 rows × 101 columns</p>\n",
       "</div>"
      ],
      "text/plain": [
       "   ID  Age_mean  Albumin_max  Albumin_median  Albumin_min  Albumin_range  \\\n",
       "0   1        65         57.0            40.5         38.0       0.066202   \n",
       "1   2        48         45.0            41.0         39.0       0.010453   \n",
       "2   3        38         50.0            47.0         45.0       0.008929   \n",
       "3   4        63         47.0            44.0         41.0       0.012111   \n",
       "4   5        63         47.0            45.5         42.0       0.008292   \n",
       "\n",
       "   ALSFRS_slope  ALSFRS_Total_max  ALSFRS_Total_median  ALSFRS_Total_min  ...  \\\n",
       "0     -0.965608                30                 28.0                22  ...   \n",
       "1     -0.921717                37                 33.0                21  ...   \n",
       "2     -0.914787                24                 14.0                10  ...   \n",
       "3     -0.598361                30                 29.0                24  ...   \n",
       "4     -0.444039                32                 27.5                20  ...   \n",
       "\n",
       "   Sodium_min  Sodium_range  SubjectID  trunk_max  trunk_median  trunk_min  \\\n",
       "0       143.0      0.017422        533          8           7.0          7   \n",
       "1       136.0      0.010453        649          8           7.0          5   \n",
       "2       140.0      0.008929       1234          5           0.0          0   \n",
       "3       138.0      0.012469       2492          5           5.0          3   \n",
       "4       138.0      0.008292       2956          6           4.0          1   \n",
       "\n",
       "   trunk_range  Urine.Ph_max  Urine.Ph_median  Urine.Ph_min  \n",
       "0     0.002646           6.0              6.0           6.0  \n",
       "1     0.005386           7.0              5.0           5.0  \n",
       "2     0.008929           6.0              5.0           5.0  \n",
       "3     0.004988           7.0              6.0           5.0  \n",
       "4     0.008489           6.0              5.0           5.0  \n",
       "\n",
       "[5 rows x 101 columns]"
      ]
     },
     "execution_count": 6,
     "metadata": {},
     "output_type": "execute_result"
    }
   ],
   "source": [
    "# Loading data into dataframe.\n",
    "als_df = pd.read_csv(r'Data/als_data.csv')\n",
    "\n",
    "# Viewing the dataframe.\n",
    "als_df.head()"
   ]
  },
  {
   "cell_type": "markdown",
   "id": "2730114e",
   "metadata": {},
   "source": [
    "### 1. Remove any data that is not relevant ot the patient's ALS condition."
   ]
  },
  {
   "cell_type": "code",
   "execution_count": 9,
   "id": "e6151399",
   "metadata": {},
   "outputs": [],
   "source": [
    "# Removing irrelevant ID & subject id columns.\n",
    "als_df = als_df.drop(['ID', 'SubjectID'], axis=1)"
   ]
  },
  {
   "cell_type": "markdown",
   "id": "34311377",
   "metadata": {},
   "source": [
    "### 2. Apply a standard scaler to the data."
   ]
  },
  {
   "cell_type": "code",
   "execution_count": 10,
   "id": "6907a2fb",
   "metadata": {},
   "outputs": [],
   "source": [
    "# Creating standard scaler object.\n",
    "standardizer = StandardScaler()\n",
    "\n",
    "# Applying Standard scaler to the data.\n",
    "als_df_ss = standardizer.fit_transform(als_df)"
   ]
  },
  {
   "cell_type": "markdown",
   "id": "928db3eb",
   "metadata": {},
   "source": [
    "### 3. Create a plot of the cluster silhouette score versus the number of clusters in a K-means cluster."
   ]
  },
  {
   "cell_type": "code",
   "execution_count": 104,
   "id": "95e8feae",
   "metadata": {},
   "outputs": [],
   "source": [
    "# Creating an empty dataframe for number of clusters vs silhouette score.\n",
    "sil_score_df = pd.DataFrame(columns=['Clusters', 'Silhouette Score'])"
   ]
  },
  {
   "cell_type": "code",
   "execution_count": 105,
   "id": "8a98b48b",
   "metadata": {},
   "outputs": [],
   "source": [
    "# Calculating silhouette score for n clusters and adding to dataframe.\n",
    "for k in range(2, 16):\n",
    "    kmeans_model = KMeans(n_clusters=k, random_state=5).fit(als_df_ss)\n",
    "    labels = kmeans_model.labels_\n",
    "    sil_score = silhouette_score(als_df_ss, labels, metric='euclidean')\n",
    "    sil_score_df = sil_score_df.append({'Clusters' : k, 'Silhouette Score' : sil_score}, ignore_index=True)"
   ]
  },
  {
   "cell_type": "code",
   "execution_count": 106,
   "id": "37cf6346",
   "metadata": {},
   "outputs": [
    {
     "data": {
      "image/png": "[encoded data removed]",
      "text/plain": [
       "<Figure size 432x288 with 1 Axes>"
      ]
     },
     "metadata": {
      "needs_background": "light"
     },
     "output_type": "display_data"
    }
   ],
   "source": [
    "# Create a scatter plot of Clusters vs Silhouette Score\n",
    "fig=plt.figure()\n",
    "ax=fig.add_axes([0, 0, 1, 1])\n",
    "ax.scatter(sil_score_df['Clusters'], sil_score_df['Silhouette Score'], color='b')\n",
    "ax.set_xlabel('Clusters')\n",
    "ax.set_ylabel('Silhouette Score')\n",
    "ax.set_title('Number of Clusters vs Silhouette Score')\n",
    "plt.show()"
   ]
  },
  {
   "cell_type": "markdown",
   "id": "33b26e2c",
   "metadata": {},
   "source": [
    "### 4. Use the plot created in (3) to choose an optimal number of clusters for K-means. Justify your choice."
   ]
  },
  {
   "cell_type": "markdown",
   "id": "17a9aafd",
   "metadata": {},
   "source": [
    "From the above plot, we could see that the optimal number of clusters is 2 since it has the highest silhouette score."
   ]
  },
  {
   "cell_type": "markdown",
   "id": "ecd9b736",
   "metadata": {},
   "source": [
    "### 5. Fit a K-means model to the data with the optimal number of clusters chosen in part (4)."
   ]
  },
  {
   "cell_type": "code",
   "execution_count": 108,
   "id": "cc1d2783",
   "metadata": {},
   "outputs": [
    {
     "data": {
      "text/plain": [
       "KMeans(n_clusters=2, random_state=5)"
      ]
     },
     "execution_count": 108,
     "metadata": {},
     "output_type": "execute_result"
    }
   ],
   "source": [
    "# Fitting K-means model to the data with 2 clusters.\n",
    "k_means_model = KMeans(n_clusters=2, random_state=5)\n",
    "k_means_model.fit(als_df_ss)"
   ]
  },
  {
   "cell_type": "markdown",
   "id": "0fc794b9",
   "metadata": {},
   "source": [
    "### 6. Fit a PCA transformation with two features to the scaled data."
   ]
  },
  {
   "cell_type": "code",
   "execution_count": 130,
   "id": "8816c688",
   "metadata": {},
   "outputs": [],
   "source": [
    "# Creating a pca with 2 components.\n",
    "pca = PCA(n_components=2)\n",
    "\n",
    "# Fitting the PCA.\n",
    "als_pca = pca.fit_transform(als_df_ss)\n",
    "\n",
    "# Creating a pca dataframe.\n",
    "alspca_df = pd.DataFrame(data=als_pca, columns = ['PC_1', 'PC_2'])\n",
    "\n",
    "# Obtaining the cluster labels.\n",
    "label = k_means_model.fit_predict(als_df_ss)\n",
    "\n",
    "# Adding the cluster labels to the dataframe.\n",
    "alspca_df['Cluster'] = label"
   ]
  },
  {
   "cell_type": "markdown",
   "id": "5de9702d",
   "metadata": {},
   "source": [
    "### 7. Make a scatterplot the PCA transformed data coloring each point by its cluster value."
   ]
  },
  {
   "cell_type": "code",
   "execution_count": 131,
   "id": "799a9ea9",
   "metadata": {},
   "outputs": [
    {
     "data": {
      "image/png": "[encoded data removed]",
      "text/plain": [
       "<Figure size 432x288 with 1 Axes>"
      ]
     },
     "metadata": {
      "needs_background": "light"
     },
     "output_type": "display_data"
    }
   ],
   "source": [
    "# Filtering out clusters.\n",
    "alscluster_0 = alspca_df.loc[alspca_df['Cluster'] == 0]\n",
    "alscluster_1 = alspca_df.loc[alspca_df['Cluster'] == 1]\n",
    "\n",
    "# Creating a scatter plot of PCA transformed data.\n",
    "fig=plt.figure()\n",
    "ax=fig.add_axes([0, 0, 1, 1])\n",
    "\n",
    "ax.scatter(alscluster_0['PC_1'], alscluster_0['PC_2'], color = 'blue')\n",
    "ax.scatter(alscluster_1['PC_1'], alscluster_1['PC_2'], color = 'green')\n",
    "ax.set_xlabel('PC 1')\n",
    "ax.set_ylabel('PC 2')\n",
    "\n",
    "ax.set_title('ALS PCA Cluster Visualization')\n",
    "\n",
    "plt.show()"
   ]
  },
  {
   "cell_type": "markdown",
   "id": "27cbf225",
   "metadata": {},
   "source": [
    "### 8. Summarize your results and make a conclusion."
   ]
  },
  {
   "cell_type": "markdown",
   "id": "5fe0706e",
   "metadata": {},
   "source": [
    "1) From the plot 3,based on silhouette score metric, we could say that clusters are dense and separated.\n",
    "\n",
    "2) From the Kmeans and PCA model, the als data is divided into two sets of clusters. Right cluster contains more outliers compared to left."
   ]
  }
 ],
 "metadata": {
  "kernelspec": {
   "display_name": "Python 3 (ipykernel)",
   "language": "python",
   "name": "python3"
  },
  "language_info": {
   "codemirror_mode": {
    "name": "ipython",
    "version": 3
   },
   "file_extension": ".py",
   "mimetype": "text/x-python",
   "name": "python",
   "nbconvert_exporter": "python",
   "pygments_lexer": "ipython3",
   "version": "3.8.12"
  }
 },
 "nbformat": 4,
 "nbformat_minor": 5
}
